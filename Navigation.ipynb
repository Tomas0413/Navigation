{
 "cells": [
  {
   "cell_type": "markdown",
   "metadata": {},
   "source": [
    "# Navigation\n",
    "\n",
    "---\n",
    "\n",
    "In this notebook, we're training Banana Navigation environment using the Unity ML-Agents as a part for the first project of the [Deep Reinforcement Learning Nanodegree](https://www.udacity.com/course/deep-reinforcement-learning-nanodegree--nd893)."
   ]
  },
  {
   "cell_type": "markdown",
   "metadata": {},
   "source": [
    "### 1. Install required dependencies"
   ]
  },
  {
   "cell_type": "code",
   "execution_count": 21,
   "metadata": {},
   "outputs": [
    {
     "name": "stdout",
     "output_type": "stream",
     "text": [
      "Requirement already up-to-date: pip in /anaconda/lib/python3.6/site-packages (18.1)\r\n"
     ]
    }
   ],
   "source": [
    "!pip install --upgrade pip\n",
    "!pip --quiet install unityagents\n",
    "!pip --quiet install torch\n",
    "!pip --quiet install numpy\n",
    "!pip --quiet install matplotlib"
   ]
  },
  {
   "cell_type": "markdown",
   "metadata": {},
   "source": [
    "### 1. Start the Environment\n",
    "\n",
    "Let's import the necessary packages"
   ]
  },
  {
   "cell_type": "code",
   "execution_count": 1,
   "metadata": {
    "collapsed": true
   },
   "outputs": [],
   "source": [
    "from unityagents import UnityEnvironment\n",
    "import numpy as np\n",
    "import torch\n",
    "import torch.nn as nn\n",
    "import time\n",
    "from dqn_agent import Agent\n",
    "from collections import deque\n",
    "import matplotlib.pyplot as plt\n",
    "%matplotlib inline"
   ]
  },
  {
   "cell_type": "markdown",
   "metadata": {},
   "source": [
    "Download the Banana environment (binary file) for your operating system and configure file_name variable to point to the binary file.\n",
    "\n",
    "* Linux: [click here](https://s3-us-west-1.amazonaws.com/udacity-drlnd/P1/Banana/Banana_Linux.zip)\n",
    "* Mac OSX: [click here](https://s3-us-west-1.amazonaws.com/udacity-drlnd/P1/Banana/Banana.app.zip)\n",
    "* Windows (32-bit): [click here](https://s3-us-west-1.amazonaws.com/udacity-drlnd/P1/Banana/Banana_Windows_x86.zip)\n",
    "* Windows (64-bit): [click here](https://s3-us-west-1.amazonaws.com/udacity-drlnd/P1/Banana/Banana_Windows_x86_64.zip)\n",
    "\n",
    "We're going to use the file for Mac OSX.\n"
   ]
  },
  {
   "cell_type": "markdown",
   "metadata": {},
   "source": [
    "### 2. Define DQN procedure that will be invoked to train the agent "
   ]
  },
  {
   "cell_type": "code",
   "execution_count": 8,
   "metadata": {
    "collapsed": true
   },
   "outputs": [],
   "source": [
    "def dqn(n_episodes=4000, eps_start=1.0, eps_end=0.01, eps_decay=0.995):\n",
    "    \"\"\"Deep Q-Learning.\n",
    "    \n",
    "    Params\n",
    "    ======\n",
    "        n_episodes (int): maximum number of training episodes\n",
    "        max_t (int): maximum number of timesteps per episode\n",
    "        eps_start (float): starting value of epsilon, for epsilon-greedy action selection\n",
    "        eps_end (float): minimum value of epsilon\n",
    "        eps_decay (float): multiplicative factor (per episode) for decreasing epsilon\n",
    "    \"\"\"\n",
    "    starting_time = time.time()        # for timing reasons we notice the starting time\n",
    "    last_time = starting_time          # time to see how long the last hundred episodes took\n",
    "    scores = []                        # list containing scores from each episode\n",
    "    scores_window = deque(maxlen=100)  # last 100 scores\n",
    "    eps = eps_start                    # initialize epsilon\n",
    "    max_score = 0.                     # initialize the maximal score to zero\n",
    "\n",
    "    for i_episode in range(1, n_episodes+1):\n",
    "        env_info = env.reset(train_mode=True)[brain_name] # reset the environment\n",
    "        state = env_info.vector_observations[0]            # get the current state\n",
    "        score = 0\n",
    "        done = False\n",
    "        while not done:                                    # do untill done\n",
    "            action = agent.act(state, eps)                 # select an action\n",
    "            env_info = env.step(action)[brain_name]        # send the action to the environment\n",
    "            next_state = env_info.vector_observations[0]   # get the next state\n",
    "            reward = env_info.rewards[0]                   # get the reward\n",
    "            done = env_info.local_done[0]                  # see if episode has finished\n",
    "            agent.step(state, action, reward, next_state, done)\n",
    "            state = next_state\n",
    "            score += reward\n",
    "            \n",
    "        scores_window.append(score)       # save most recent score\n",
    "        scores.append(score)              # save most recent score\n",
    "        eps = max(eps_end, eps_decay*eps) # decrease epsilon\n",
    "        print('\\rEpisode {}\\tAverage Score: {:.2f} \\t Time passed: {:.1f} mins'.format(i_episode, np.mean(scores_window), (time.time() - starting_time)/60.), end=\"\")\n",
    "        if i_episode % 100 == 0:            \n",
    "            print('\\rEpisode {}\\tAverage Score: {:.2f} \\tlast 100 Episodes took {:.1f} mins'.format(i_episode, np.mean(scores_window), (time.time() - last_time)/60.))\n",
    "            last_time = time.time()\n",
    "        if np.mean(scores_window)>=max(13., max_score):\n",
    "            print('\\nNew Maximum Average Score at {:d} episodes!\\tAverage Score: {:.2f} \\t Time passed: {:.1f} mins'.format(i_episode, np.mean(scores_window), (time.time() - starting_time)/60.))\n",
    "            torch.save(agent.qnetwork_local.state_dict(), 'checkpoint.pth')\n",
    "            max_score = np.mean(scores_window)\n",
    "    return scores"
   ]
  },
  {
   "cell_type": "markdown",
   "metadata": {},
   "source": [
    "### 3. Start the Environment"
   ]
  },
  {
   "cell_type": "code",
   "execution_count": 10,
   "metadata": {},
   "outputs": [
    {
     "name": "stderr",
     "output_type": "stream",
     "text": [
      "INFO:unityagents:\n",
      "'Academy' started successfully!\n",
      "Unity Academy name: Academy\n",
      "        Number of Brains: 1\n",
      "        Number of External Brains : 1\n",
      "        Lesson number : 0\n",
      "        Reset Parameters :\n",
      "\t\t\n",
      "Unity brain name: BananaBrain\n",
      "        Number of Visual Observations (per agent): 0\n",
      "        Vector Observation space type: continuous\n",
      "        Vector Observation space size (per agent): 37\n",
      "        Number of stacked Vector Observation: 1\n",
      "        Vector Action space type: discrete\n",
      "        Vector Action space size (per agent): 4\n",
      "        Vector Action descriptions: , , , \n"
     ]
    },
    {
     "name": "stdout",
     "output_type": "stream",
     "text": [
      "Number of agents: 1\n",
      "Number of actions: 4\n",
      "States look like: [1.         0.         0.         0.         0.84408134 0.\n",
      " 0.         1.         0.         0.0748472  0.         1.\n",
      " 0.         0.         0.25755    1.         0.         0.\n",
      " 0.         0.74177343 0.         1.         0.         0.\n",
      " 0.25854847 0.         0.         1.         0.         0.09355672\n",
      " 0.         1.         0.         0.         0.31969345 0.\n",
      " 0.        ]\n",
      "States have length: 37\n",
      "Working on device: cpu\n"
     ]
    }
   ],
   "source": [
    "env = UnityEnvironment(file_name=\"Banana.app\")\n",
    "# get the default brain\n",
    "brain_name = env.brain_names[0]\n",
    "brain = env.brains[brain_name]\n",
    "\n",
    "# reset the environment\n",
    "env_info = env.reset(train_mode=True)[brain_name]\n",
    "\n",
    "# number of agents in the environment\n",
    "print('Number of agents:', len(env_info.agents))\n",
    "\n",
    "# number of actions\n",
    "action_size = brain.vector_action_space_size\n",
    "print('Number of actions:', action_size)\n",
    "\n",
    "# examine the state space \n",
    "state = env_info.vector_observations[0]\n",
    "print('States look like:', state)\n",
    "state_size = len(state)\n",
    "print('States have length:', state_size)\n",
    "\n",
    "agent = Agent(state_size=state_size, action_size=action_size, seed=0)"
   ]
  },
  {
   "cell_type": "markdown",
   "metadata": {},
   "source": [
    "### 4. Train the agent"
   ]
  },
  {
   "cell_type": "code",
   "execution_count": 15,
   "metadata": {},
   "outputs": [
    {
     "name": "stdout",
     "output_type": "stream",
     "text": [
      "Episode 100\tAverage Score: 1.99 \tlast 100 Episodes took 2.4 mins\n",
      "Episode 200\tAverage Score: 6.80 \tlast 100 Episodes took 2.4 mins\n",
      "Episode 300\tAverage Score: 9.79 \tlast 100 Episodes took 2.3 mins\n",
      "Episode 400\tAverage Score: 11.27 \tlast 100 Episodes took 2.4 mins\n",
      "Episode 500\tAverage Score: 12.24 \tlast 100 Episodes took 2.4 mins\n",
      "Episode 530\tAverage Score: 13.08 \t Time passed: 12.7 mins\n",
      "New Maximum Average Score at 530 episodes!\tAverage Score: 13.08 \t Time passed: 12.7 mins\n",
      "Episode 532\tAverage Score: 13.08 \t Time passed: 12.7 mins\n",
      "New Maximum Average Score at 532 episodes!\tAverage Score: 13.08 \t Time passed: 12.7 mins\n",
      "Episode 533\tAverage Score: 13.16 \t Time passed: 12.8 mins\n",
      "New Maximum Average Score at 533 episodes!\tAverage Score: 13.16 \t Time passed: 12.8 mins\n",
      "Episode 534\tAverage Score: 13.17 \t Time passed: 12.8 mins\n",
      "New Maximum Average Score at 534 episodes!\tAverage Score: 13.17 \t Time passed: 12.8 mins\n",
      "Episode 540\tAverage Score: 13.18 \t Time passed: 12.9 mins\n",
      "New Maximum Average Score at 540 episodes!\tAverage Score: 13.18 \t Time passed: 12.9 mins\n",
      "Episode 541\tAverage Score: 13.23 \t Time passed: 13.0 mins\n",
      "New Maximum Average Score at 541 episodes!\tAverage Score: 13.23 \t Time passed: 13.0 mins\n",
      "Episode 542\tAverage Score: 13.27 \t Time passed: 13.0 mins\n",
      "New Maximum Average Score at 542 episodes!\tAverage Score: 13.27 \t Time passed: 13.0 mins\n",
      "Episode 544\tAverage Score: 13.28 \t Time passed: 13.1 mins\n",
      "New Maximum Average Score at 544 episodes!\tAverage Score: 13.28 \t Time passed: 13.1 mins\n",
      "Episode 545\tAverage Score: 13.28 \t Time passed: 13.1 mins\n",
      "New Maximum Average Score at 545 episodes!\tAverage Score: 13.28 \t Time passed: 13.1 mins\n",
      "Episode 546\tAverage Score: 13.35 \t Time passed: 13.1 mins\n",
      "New Maximum Average Score at 546 episodes!\tAverage Score: 13.35 \t Time passed: 13.1 mins\n",
      "Episode 547\tAverage Score: 13.43 \t Time passed: 13.1 mins\n",
      "New Maximum Average Score at 547 episodes!\tAverage Score: 13.43 \t Time passed: 13.1 mins\n",
      "Episode 548\tAverage Score: 13.47 \t Time passed: 13.1 mins\n",
      "New Maximum Average Score at 548 episodes!\tAverage Score: 13.47 \t Time passed: 13.1 mins\n",
      "Episode 549\tAverage Score: 13.57 \t Time passed: 13.2 mins\n",
      "New Maximum Average Score at 549 episodes!\tAverage Score: 13.57 \t Time passed: 13.2 mins\n",
      "Episode 551\tAverage Score: 13.63 \t Time passed: 13.2 mins\n",
      "New Maximum Average Score at 551 episodes!\tAverage Score: 13.63 \t Time passed: 13.2 mins\n",
      "Episode 552\tAverage Score: 13.65 \t Time passed: 13.3 mins\n",
      "New Maximum Average Score at 552 episodes!\tAverage Score: 13.65 \t Time passed: 13.3 mins\n",
      "Episode 554\tAverage Score: 13.66 \t Time passed: 13.3 mins\n",
      "New Maximum Average Score at 554 episodes!\tAverage Score: 13.66 \t Time passed: 13.3 mins\n",
      "Episode 556\tAverage Score: 13.71 \t Time passed: 13.4 mins\n",
      "New Maximum Average Score at 556 episodes!\tAverage Score: 13.71 \t Time passed: 13.4 mins\n",
      "Episode 558\tAverage Score: 13.76 \t Time passed: 13.4 mins\n",
      "New Maximum Average Score at 558 episodes!\tAverage Score: 13.76 \t Time passed: 13.4 mins\n",
      "Episode 559\tAverage Score: 13.80 \t Time passed: 13.4 mins\n",
      "New Maximum Average Score at 559 episodes!\tAverage Score: 13.80 \t Time passed: 13.4 mins\n",
      "Episode 568\tAverage Score: 13.84 \t Time passed: 13.7 mins\n",
      "New Maximum Average Score at 568 episodes!\tAverage Score: 13.84 \t Time passed: 13.7 mins\n",
      "Episode 569\tAverage Score: 13.88 \t Time passed: 13.7 mins\n",
      "New Maximum Average Score at 569 episodes!\tAverage Score: 13.88 \t Time passed: 13.7 mins\n",
      "Episode 577\tAverage Score: 13.88 \t Time passed: 13.9 mins\n",
      "New Maximum Average Score at 577 episodes!\tAverage Score: 13.88 \t Time passed: 13.9 mins\n",
      "Episode 592\tAverage Score: 13.88 \t Time passed: 14.2 mins\n",
      "New Maximum Average Score at 592 episodes!\tAverage Score: 13.88 \t Time passed: 14.2 mins\n",
      "Episode 593\tAverage Score: 13.91 \t Time passed: 14.3 mins\n",
      "New Maximum Average Score at 593 episodes!\tAverage Score: 13.91 \t Time passed: 14.3 mins\n",
      "Episode 594\tAverage Score: 14.00 \t Time passed: 14.3 mins\n",
      "New Maximum Average Score at 594 episodes!\tAverage Score: 14.00 \t Time passed: 14.3 mins\n",
      "Episode 597\tAverage Score: 14.02 \t Time passed: 14.3 mins\n",
      "New Maximum Average Score at 597 episodes!\tAverage Score: 14.02 \t Time passed: 14.3 mins\n",
      "Episode 600\tAverage Score: 13.94 \tlast 100 Episodes took 2.5 mins\n",
      "Episode 607\tAverage Score: 14.06 \t Time passed: 14.6 mins\n",
      "New Maximum Average Score at 607 episodes!\tAverage Score: 14.06 \t Time passed: 14.6 mins\n",
      "Episode 611\tAverage Score: 14.06 \t Time passed: 14.7 mins\n",
      "New Maximum Average Score at 611 episodes!\tAverage Score: 14.06 \t Time passed: 14.7 mins\n",
      "Episode 612\tAverage Score: 14.10 \t Time passed: 14.7 mins\n",
      "New Maximum Average Score at 612 episodes!\tAverage Score: 14.10 \t Time passed: 14.7 mins\n",
      "Episode 613\tAverage Score: 14.11 \t Time passed: 14.7 mins\n",
      "New Maximum Average Score at 613 episodes!\tAverage Score: 14.11 \t Time passed: 14.7 mins\n",
      "Episode 615\tAverage Score: 14.14 \t Time passed: 14.8 mins\n",
      "New Maximum Average Score at 615 episodes!\tAverage Score: 14.14 \t Time passed: 14.8 mins\n",
      "Episode 616\tAverage Score: 14.17 \t Time passed: 14.8 mins\n",
      "New Maximum Average Score at 616 episodes!\tAverage Score: 14.17 \t Time passed: 14.8 mins\n",
      "Episode 617\tAverage Score: 14.24 \t Time passed: 14.8 mins\n",
      "New Maximum Average Score at 617 episodes!\tAverage Score: 14.24 \t Time passed: 14.8 mins\n",
      "Episode 618\tAverage Score: 14.32 \t Time passed: 14.9 mins\n",
      "New Maximum Average Score at 618 episodes!\tAverage Score: 14.32 \t Time passed: 14.9 mins\n",
      "Episode 621\tAverage Score: 14.38 \t Time passed: 14.9 mins\n",
      "New Maximum Average Score at 621 episodes!\tAverage Score: 14.38 \t Time passed: 14.9 mins\n",
      "Episode 622\tAverage Score: 14.44 \t Time passed: 15.0 mins\n",
      "New Maximum Average Score at 622 episodes!\tAverage Score: 14.44 \t Time passed: 15.0 mins\n",
      "Episode 623\tAverage Score: 14.44 \t Time passed: 15.0 mins\n",
      "New Maximum Average Score at 623 episodes!\tAverage Score: 14.44 \t Time passed: 15.0 mins\n",
      "Episode 626\tAverage Score: 14.45 \t Time passed: 15.0 mins\n",
      "New Maximum Average Score at 626 episodes!\tAverage Score: 14.45 \t Time passed: 15.0 mins\n",
      "Episode 627\tAverage Score: 14.47 \t Time passed: 15.1 mins\n",
      "New Maximum Average Score at 627 episodes!\tAverage Score: 14.47 \t Time passed: 15.1 mins\n",
      "Episode 635\tAverage Score: 14.49 \t Time passed: 15.2 mins\n",
      "New Maximum Average Score at 635 episodes!\tAverage Score: 14.49 \t Time passed: 15.2 mins\n",
      "Episode 636\tAverage Score: 14.52 \t Time passed: 15.3 mins\n",
      "New Maximum Average Score at 636 episodes!\tAverage Score: 14.52 \t Time passed: 15.3 mins\n",
      "Episode 637\tAverage Score: 14.54 \t Time passed: 15.3 mins\n",
      "New Maximum Average Score at 637 episodes!\tAverage Score: 14.54 \t Time passed: 15.3 mins\n",
      "Episode 638\tAverage Score: 14.61 \t Time passed: 15.3 mins\n",
      "New Maximum Average Score at 638 episodes!\tAverage Score: 14.61 \t Time passed: 15.3 mins\n",
      "Episode 639\tAverage Score: 14.62 \t Time passed: 15.3 mins\n",
      "New Maximum Average Score at 639 episodes!\tAverage Score: 14.62 \t Time passed: 15.3 mins\n",
      "Episode 673\tAverage Score: 14.64 \t Time passed: 16.1 mins\n",
      "New Maximum Average Score at 673 episodes!\tAverage Score: 14.64 \t Time passed: 16.1 mins\n",
      "Episode 674\tAverage Score: 14.64 \t Time passed: 16.1 mins\n",
      "New Maximum Average Score at 674 episodes!\tAverage Score: 14.64 \t Time passed: 16.1 mins\n",
      "Episode 680\tAverage Score: 14.67 \t Time passed: 16.2 mins\n",
      "New Maximum Average Score at 680 episodes!\tAverage Score: 14.67 \t Time passed: 16.2 mins\n",
      "Episode 681\tAverage Score: 14.70 \t Time passed: 16.2 mins\n",
      "New Maximum Average Score at 681 episodes!\tAverage Score: 14.70 \t Time passed: 16.2 mins\n",
      "Episode 687\tAverage Score: 14.72 \t Time passed: 16.4 mins\n",
      "New Maximum Average Score at 687 episodes!\tAverage Score: 14.72 \t Time passed: 16.4 mins\n",
      "Episode 699\tAverage Score: 14.73 \t Time passed: 16.6 mins\n",
      "New Maximum Average Score at 699 episodes!\tAverage Score: 14.73 \t Time passed: 16.6 mins\n",
      "Episode 700\tAverage Score: 14.73 \tlast 100 Episodes took 2.2 mins\n",
      "\n",
      "New Maximum Average Score at 700 episodes!\tAverage Score: 14.73 \t Time passed: 16.6 mins\n",
      "Episode 701\tAverage Score: 14.82 \t Time passed: 16.7 mins\n",
      "New Maximum Average Score at 701 episodes!\tAverage Score: 14.82 \t Time passed: 16.7 mins\n",
      "Episode 800\tAverage Score: 14.64 \tlast 100 Episodes took 2.2 mins\n",
      "Episode 808\tAverage Score: 14.92 \t Time passed: 19.0 mins\n",
      "New Maximum Average Score at 808 episodes!\tAverage Score: 14.92 \t Time passed: 19.0 mins\n"
     ]
    },
    {
     "name": "stdout",
     "output_type": "stream",
     "text": [
      "Episode 811\tAverage Score: 14.93 \t Time passed: 19.1 mins\n",
      "New Maximum Average Score at 811 episodes!\tAverage Score: 14.93 \t Time passed: 19.1 mins\n",
      "Episode 823\tAverage Score: 14.93 \t Time passed: 19.4 mins\n",
      "New Maximum Average Score at 823 episodes!\tAverage Score: 14.93 \t Time passed: 19.4 mins\n",
      "Episode 824\tAverage Score: 14.94 \t Time passed: 19.4 mins\n",
      "New Maximum Average Score at 824 episodes!\tAverage Score: 14.94 \t Time passed: 19.4 mins\n",
      "Episode 827\tAverage Score: 15.02 \t Time passed: 19.5 mins\n",
      "New Maximum Average Score at 827 episodes!\tAverage Score: 15.02 \t Time passed: 19.5 mins\n",
      "Episode 833\tAverage Score: 15.08 \t Time passed: 19.6 mins\n",
      "New Maximum Average Score at 833 episodes!\tAverage Score: 15.08 \t Time passed: 19.6 mins\n",
      "Episode 852\tAverage Score: 15.09 \t Time passed: 20.1 mins\n",
      "New Maximum Average Score at 852 episodes!\tAverage Score: 15.09 \t Time passed: 20.1 mins\n",
      "Episode 853\tAverage Score: 15.16 \t Time passed: 20.1 mins\n",
      "New Maximum Average Score at 853 episodes!\tAverage Score: 15.16 \t Time passed: 20.1 mins\n",
      "Episode 854\tAverage Score: 15.18 \t Time passed: 20.1 mins\n",
      "New Maximum Average Score at 854 episodes!\tAverage Score: 15.18 \t Time passed: 20.1 mins\n",
      "Episode 856\tAverage Score: 15.28 \t Time passed: 20.2 mins\n",
      "New Maximum Average Score at 856 episodes!\tAverage Score: 15.28 \t Time passed: 20.2 mins\n",
      "Episode 857\tAverage Score: 15.28 \t Time passed: 20.2 mins\n",
      "New Maximum Average Score at 857 episodes!\tAverage Score: 15.28 \t Time passed: 20.2 mins\n",
      "Episode 858\tAverage Score: 15.34 \t Time passed: 20.2 mins\n",
      "New Maximum Average Score at 858 episodes!\tAverage Score: 15.34 \t Time passed: 20.2 mins\n",
      "Episode 859\tAverage Score: 15.34 \t Time passed: 20.2 mins\n",
      "New Maximum Average Score at 859 episodes!\tAverage Score: 15.34 \t Time passed: 20.2 mins\n",
      "Episode 900\tAverage Score: 15.13 \tlast 100 Episodes took 2.4 mins\n",
      "Episode 917\tAverage Score: 15.38 \t Time passed: 21.7 mins\n",
      "New Maximum Average Score at 917 episodes!\tAverage Score: 15.38 \t Time passed: 21.7 mins\n",
      "Episode 918\tAverage Score: 15.42 \t Time passed: 21.7 mins\n",
      "New Maximum Average Score at 918 episodes!\tAverage Score: 15.42 \t Time passed: 21.7 mins\n",
      "Episode 919\tAverage Score: 15.51 \t Time passed: 21.7 mins\n",
      "New Maximum Average Score at 919 episodes!\tAverage Score: 15.51 \t Time passed: 21.7 mins\n",
      "Episode 920\tAverage Score: 15.53 \t Time passed: 21.7 mins\n",
      "New Maximum Average Score at 920 episodes!\tAverage Score: 15.53 \t Time passed: 21.7 mins\n",
      "Episode 922\tAverage Score: 15.54 \t Time passed: 21.8 mins\n",
      "New Maximum Average Score at 922 episodes!\tAverage Score: 15.54 \t Time passed: 21.8 mins\n",
      "Episode 930\tAverage Score: 15.59 \t Time passed: 22.0 mins\n",
      "New Maximum Average Score at 930 episodes!\tAverage Score: 15.59 \t Time passed: 22.0 mins\n",
      "Episode 931\tAverage Score: 15.60 \t Time passed: 22.0 mins\n",
      "New Maximum Average Score at 931 episodes!\tAverage Score: 15.60 \t Time passed: 22.0 mins\n",
      "Episode 939\tAverage Score: 15.63 \t Time passed: 22.2 mins\n",
      "New Maximum Average Score at 939 episodes!\tAverage Score: 15.63 \t Time passed: 22.2 mins\n",
      "Episode 941\tAverage Score: 15.69 \t Time passed: 22.2 mins\n",
      "New Maximum Average Score at 941 episodes!\tAverage Score: 15.69 \t Time passed: 22.2 mins\n",
      "Episode 942\tAverage Score: 15.79 \t Time passed: 22.2 mins\n",
      "New Maximum Average Score at 942 episodes!\tAverage Score: 15.79 \t Time passed: 22.2 mins\n",
      "Episode 943\tAverage Score: 15.84 \t Time passed: 22.3 mins\n",
      "New Maximum Average Score at 943 episodes!\tAverage Score: 15.84 \t Time passed: 22.3 mins\n",
      "Episode 944\tAverage Score: 15.92 \t Time passed: 22.3 mins\n",
      "New Maximum Average Score at 944 episodes!\tAverage Score: 15.92 \t Time passed: 22.3 mins\n",
      "Episode 945\tAverage Score: 16.03 \t Time passed: 22.3 mins\n",
      "New Maximum Average Score at 945 episodes!\tAverage Score: 16.03 \t Time passed: 22.3 mins\n",
      "Episode 946\tAverage Score: 16.10 \t Time passed: 22.3 mins\n",
      "New Maximum Average Score at 946 episodes!\tAverage Score: 16.10 \t Time passed: 22.3 mins\n",
      "Episode 947\tAverage Score: 16.16 \t Time passed: 22.3 mins\n",
      "New Maximum Average Score at 947 episodes!\tAverage Score: 16.16 \t Time passed: 22.3 mins\n",
      "Episode 964\tAverage Score: 16.21 \t Time passed: 22.7 mins\n",
      "New Maximum Average Score at 964 episodes!\tAverage Score: 16.21 \t Time passed: 22.7 mins\n",
      "Episode 968\tAverage Score: 16.21 \t Time passed: 22.9 mins\n",
      "New Maximum Average Score at 968 episodes!\tAverage Score: 16.21 \t Time passed: 22.9 mins\n",
      "Episode 971\tAverage Score: 16.21 \t Time passed: 22.9 mins\n",
      "New Maximum Average Score at 971 episodes!\tAverage Score: 16.21 \t Time passed: 22.9 mins\n",
      "Episode 972\tAverage Score: 16.22 \t Time passed: 23.0 mins\n",
      "New Maximum Average Score at 972 episodes!\tAverage Score: 16.22 \t Time passed: 23.0 mins\n",
      "Episode 973\tAverage Score: 16.28 \t Time passed: 23.0 mins\n",
      "New Maximum Average Score at 973 episodes!\tAverage Score: 16.28 \t Time passed: 23.0 mins\n",
      "Episode 1000\tAverage Score: 15.68 \tlast 100 Episodes took 2.4 mins\n",
      "Episode 1100\tAverage Score: 15.02 \tlast 100 Episodes took 2.3 mins\n",
      "Episode 1200\tAverage Score: 15.48 \tlast 100 Episodes took 2.3 mins\n",
      "Episode 1300\tAverage Score: 15.42 \tlast 100 Episodes took 2.5 mins\n",
      "Episode 1400\tAverage Score: 14.78 \tlast 100 Episodes took 2.3 mins\n",
      "Episode 1500\tAverage Score: 15.93 \tlast 100 Episodes took 2.3 mins\n",
      "Episode 1600\tAverage Score: 15.55 \tlast 100 Episodes took 2.2 mins\n",
      "Episode 1700\tAverage Score: 14.65 \tlast 100 Episodes took 2.3 mins\n",
      "Episode 1800\tAverage Score: 15.73 \tlast 100 Episodes took 2.5 mins\n",
      "Episode 1900\tAverage Score: 15.72 \tlast 100 Episodes took 2.2 mins\n",
      "Episode 2000\tAverage Score: 15.48 \tlast 100 Episodes took 2.4 mins\n",
      "Episode 2100\tAverage Score: 15.85 \tlast 100 Episodes took 2.5 mins\n",
      "Episode 2200\tAverage Score: 14.95 \tlast 100 Episodes took 2.3 mins\n",
      "Episode 2300\tAverage Score: 13.88 \tlast 100 Episodes took 2.3 mins\n",
      "Episode 2400\tAverage Score: 15.02 \tlast 100 Episodes took 2.4 mins\n",
      "Episode 2500\tAverage Score: 14.60 \tlast 100 Episodes took 2.4 mins\n",
      "Episode 2600\tAverage Score: 14.46 \tlast 100 Episodes took 2.5 mins\n",
      "Episode 2700\tAverage Score: 15.14 \tlast 100 Episodes took 2.4 mins\n",
      "Episode 2800\tAverage Score: 14.51 \tlast 100 Episodes took 2.4 mins\n",
      "Episode 2900\tAverage Score: 14.53 \tlast 100 Episodes took 2.4 mins\n",
      "Episode 3000\tAverage Score: 14.97 \tlast 100 Episodes took 2.4 mins\n",
      "Episode 3100\tAverage Score: 15.34 \tlast 100 Episodes took 2.3 mins\n",
      "Episode 3200\tAverage Score: 15.82 \tlast 100 Episodes took 2.2 mins\n",
      "Episode 3300\tAverage Score: 15.25 \tlast 100 Episodes took 2.3 mins\n",
      "Episode 3400\tAverage Score: 15.71 \tlast 100 Episodes took 2.4 mins\n",
      "Episode 3500\tAverage Score: 15.15 \tlast 100 Episodes took 2.5 mins\n",
      "Episode 3600\tAverage Score: 15.43 \tlast 100 Episodes took 2.4 mins\n",
      "Episode 3700\tAverage Score: 14.55 \tlast 100 Episodes took 2.4 mins\n",
      "Episode 3800\tAverage Score: 14.40 \tlast 100 Episodes took 2.4 mins\n",
      "Episode 3900\tAverage Score: 15.21 \tlast 100 Episodes took 2.4 mins\n",
      "Episode 4000\tAverage Score: 15.59 \tlast 100 Episodes took 2.4 mins\n"
     ]
    }
   ],
   "source": [
    "scores = dqn()"
   ]
  },
  {
   "cell_type": "markdown",
   "metadata": {
    "collapsed": true
   },
   "source": [
    "### 5. Close the environment"
   ]
  },
  {
   "cell_type": "code",
   "execution_count": 17,
   "metadata": {
    "collapsed": true
   },
   "outputs": [],
   "source": [
    "env.close()"
   ]
  },
  {
   "cell_type": "markdown",
   "metadata": {},
   "source": [
    "### 6. Plot the rewards per episode"
   ]
  },
  {
   "cell_type": "code",
   "execution_count": 20,
   "metadata": {},
   "outputs": [
    {
     "data": {
      "image/png": "[encoded data removed]",
      "text/plain": [
       "<matplotlib.figure.Figure at 0x111ce14e0>"
      ]
     },
     "metadata": {},
     "output_type": "display_data"
    }
   ],
   "source": [
    "# plot the scores\n",
    "fig = plt.figure()\n",
    "ax = fig.add_subplot(111)\n",
    "plt.plot(np.arange(len(scores)), scores)\n",
    "plt.ylabel('Score')\n",
    "plt.xlabel('Episode #')\n",
    "plt.savefig('rewards_per_episode.png')"
   ]
  },
  {
   "cell_type": "markdown",
   "metadata": {},
   "source": [
    "The workaround, if you encouter this error:\n",
    "OSError: handle is closed\n",
    "BrokenPipeError: [Errno 32] Broken pipe\n",
    "\n",
    "Restart Jupyter notebook, import all the necessary packages (code block at the top of this notebook) and continue with 6 and 7 steps. "
   ]
  },
  {
   "cell_type": "markdown",
   "metadata": {},
   "source": [
    "### 6. Test the trained agent"
   ]
  },
  {
   "cell_type": "code",
   "execution_count": 2,
   "metadata": {},
   "outputs": [
    {
     "name": "stderr",
     "output_type": "stream",
     "text": [
      "INFO:unityagents:\n",
      "'Academy' started successfully!\n",
      "Unity Academy name: Academy\n",
      "        Number of Brains: 1\n",
      "        Number of External Brains : 1\n",
      "        Lesson number : 0\n",
      "        Reset Parameters :\n",
      "\t\t\n",
      "Unity brain name: BananaBrain\n",
      "        Number of Visual Observations (per agent): 0\n",
      "        Vector Observation space type: continuous\n",
      "        Vector Observation space size (per agent): 37\n",
      "        Number of stacked Vector Observation: 1\n",
      "        Vector Action space type: discrete\n",
      "        Vector Action space size (per agent): 4\n",
      "        Vector Action descriptions: , , , \n"
     ]
    },
    {
     "name": "stdout",
     "output_type": "stream",
     "text": [
      "Working on device: cpu\n",
      "Score: 12.0\n"
     ]
    }
   ],
   "source": [
    "env = UnityEnvironment(file_name=\"Banana.app\")\n",
    "\n",
    "# get the default brain\n",
    "brain_name = env.brain_names[0]\n",
    "brain = env.brains[brain_name]\n",
    "\n",
    "env_info = env.reset(train_mode=False)[brain_name] # reset the environment\n",
    "state = env_info.vector_observations[0]            # get the current state\n",
    "state_size = len(state)                            # state size\n",
    "action_size = brain.vector_action_space_size       # number of actions\n",
    "score = 0                                          # initialize the score\n",
    "done = False\n",
    "\n",
    "# initialize the agent\n",
    "agent = Agent(state_size=state_size, action_size=action_size, seed=0)\n",
    "# transferlerning from saved state and set to evaluate\n",
    "agent.qnetwork_local.load_state_dict(torch.load('checkpoint.pth'))\n",
    "agent.qnetwork_local.eval()\n",
    "\n",
    "while not done:\n",
    "    action =  agent.act(state, 0.01)               # select an action\n",
    "    env_info = env.step(action)[brain_name]        # send the action to the environment\n",
    "    next_state = env_info.vector_observations[0]   # get the next state\n",
    "    reward = env_info.rewards[0]                   # get the reward\n",
    "    done = env_info.local_done[0]                  # see if episode has finished\n",
    "    score += reward                                # update the score\n",
    "    state = next_state                             # roll over the state to next time step\n",
    "\n",
    "    \n",
    "print(\"Score: {}\".format(score))"
   ]
  },
  {
   "cell_type": "markdown",
   "metadata": {},
   "source": [
    "### 7. Close the environment"
   ]
  },
  {
   "cell_type": "code",
   "execution_count": 3,
   "metadata": {
    "collapsed": true
   },
   "outputs": [],
   "source": [
    "env.close()"
   ]
  },
  {
   "cell_type": "code",
   "execution_count": null,
   "metadata": {
    "collapsed": true
   },
   "outputs": [],
   "source": []
  }
 ],
 "metadata": {
  "kernelspec": {
   "display_name": "Python 3",
   "language": "python",
   "name": "python3"
  },
  "language_info": {
   "codemirror_mode": {
    "name": "ipython",
    "version": 3
   },
   "file_extension": ".py",
   "mimetype": "text/x-python",
   "name": "python",
   "nbconvert_exporter": "python",
   "pygments_lexer": "ipython3",
   "version": "3.6.1"
  }
 },
 "nbformat": 4,
 "nbformat_minor": 2
}
